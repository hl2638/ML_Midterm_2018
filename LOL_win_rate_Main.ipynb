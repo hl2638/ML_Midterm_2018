{
 "cells": [
  {
   "cell_type": "code",
   "execution_count": 2,
   "metadata": {},
   "outputs": [],
   "source": [
    "from riotwatcher import RiotWatcher"
   ]
  },
  {
   "cell_type": "code",
   "execution_count": 3,
   "metadata": {},
   "outputs": [],
   "source": [
    "watcher = RiotWatcher('RGAPI-c1668107-f2e7-494e-8923-ca47c3061dc4')"
   ]
  },
  {
   "cell_type": "code",
   "execution_count": 4,
   "metadata": {},
   "outputs": [],
   "source": [
    "faker = watcher.summoner.by_name('kr','hide on bush')\n",
    "region = 'kr'\n",
    "faker_ID = faker['accountId']"
   ]
  },
  {
   "cell_type": "code",
   "execution_count": 27,
   "metadata": {},
   "outputs": [],
   "source": [
    "# account_ID_list = [faker_ID]\n",
    "# match_ID_list = []\n",
    "# match_list = []\n",
    "# print(one_match_id)\n",
    "# match_history = watcher.match.matchlist_by_account(region, faker_ID)    \n",
    "# match_ID = match_history['matches'][0]['gameId']\n",
    "# one_match = watcher.match.by_id(region, match_ID)\n",
    "# for item in one_match['participantIdentities']:\n",
    "#     print(item)\n",
    "# match_history"
   ]
  },
  {
   "cell_type": "code",
   "execution_count": 29,
   "metadata": {},
   "outputs": [],
   "source": [
    "# weird_player = watcher.summoner.by_account(region,'2001447095594688')\n",
    "# weird_player\n",
    "#just ignore this cell."
   ]
  },
  {
   "cell_type": "code",
   "execution_count": 33,
   "metadata": {},
   "outputs": [
    {
     "name": "stdout",
     "output_type": "stream",
     "text": [
      "got 1 matches\n",
      "got 2 matches\n",
      "got 3 matches\n",
      "got 4 matches\n",
      "got 5 matches\n",
      "got 6 matches\n",
      "got 7 matches\n",
      "got 8 matches\n",
      "got 9 matches\n",
      "got 10 matches\n"
     ]
    },
    {
     "data": {
      "text/plain": [
       "[3387455017,\n",
       " 3401681391,\n",
       " 3401663400,\n",
       " 3387408131,\n",
       " 3401619727,\n",
       " 3401643601,\n",
       " 3401601633,\n",
       " 3401246706,\n",
       " 3401498019,\n",
       " 3401536251]"
      ]
     },
     "execution_count": 33,
     "metadata": {},
     "output_type": "execute_result"
    }
   ],
   "source": [
    "# BFS to find (M) matches\n",
    "# queue stores players' ID. For each player, find a most recent game. Skip found players and games.\n",
    "account_ID_list = [faker_ID]\n",
    "match_ID_list = []\n",
    "match_list = []\n",
    "M = 10\n",
    "matches_total = 0\n",
    "queue = [faker_ID]\n",
    "while len(queue) != 0:\n",
    "    this_ID = queue[0]\n",
    "    match_history = watcher.match.matchlist_by_account(region, this_ID)\n",
    "    idx = 0\n",
    "    while match_history['matches'][idx]['gameId'] in match_ID_list: idx += 1  # skip if game already found\n",
    "    match_ID = match_history['matches'][idx]['gameId']\n",
    "    this_match = watcher.match.by_id(region, match_ID)\n",
    "    match_ID_list.append(match_ID)\n",
    "    match_list.append(this_match)\n",
    "    matches_total += 1\n",
    "    print(\"got %d matches\" % matches_total)\n",
    "    for participant in this_match['participantIdentities']:\n",
    "        this_accountId = participant['player']['accountId']\n",
    "        queue.append(this_accountId); account_ID_list.append(this_accountId)\n",
    "    queue.pop(0)\n",
    "    if matches_total >= M: break\n",
    "\n",
    "#bfs算法需要改进。发送的request过多导致非常慢，还有可能超过次数限制。考虑剪枝，或者多利用每次request得到的东西来减少request次数\n",
    "match_ID_list"
   ]
  },
  {
   "cell_type": "raw",
   "metadata": {},
   "source": [
    "GOAL: the current goal is to get enough matches (say 100,000, don't know yet) and pickle them so we don't need to get them again.\n",
    "//patch 8.19 is already in the past so there's no need to update thenm once we get enough.\n",
    "\n",
    "Note:\n",
    "- When we don't consider champion combinations, we only need a small amount of data. \n",
    "- When we start to analyze champion combination/mutual effects, we need a lot of combinations of champs\n",
    "\n",
    "Current bug to be fixed:\n",
    ">>BFS too slow due to too many requests. Fix this probably by using more of a single request\n",
    ">>Can't find patch 8.19. Now we're just collecting the most recent games\n",
    ">>I don't know if there's intentional feed matches in KR server. If there are (try look at OP.GG), need to take a look and sort them out."
   ]
  }
 ],
 "metadata": {
  "kernelspec": {
   "display_name": "Python 3",
   "language": "python",
   "name": "python3"
  },
  "language_info": {
   "codemirror_mode": {
    "name": "ipython",
    "version": 3
   },
   "file_extension": ".py",
   "mimetype": "text/x-python",
   "name": "python",
   "nbconvert_exporter": "python",
   "pygments_lexer": "ipython3",
   "version": "3.6.3"
  }
 },
 "nbformat": 4,
 "nbformat_minor": 2
}
